{
  "nbformat": 4,
  "nbformat_minor": 0,
  "metadata": {
    "colab": {
      "provenance": [],
      "authorship_tag": "ABX9TyOjFWdwGacP+G794HFxvbdP",
      "include_colab_link": true
    },
    "kernelspec": {
      "name": "python3",
      "display_name": "Python 3"
    },
    "language_info": {
      "name": "python"
    }
  },
  "cells": [
    {
      "cell_type": "markdown",
      "metadata": {
        "id": "view-in-github",
        "colab_type": "text"
      },
      "source": [
        "<a href=\"https://colab.research.google.com/github/anjeelo/Meuperfil/blob/main/LinkDIOpowerbi.ipynb\" target=\"_parent\"><img src=\"https://colab.research.google.com/assets/colab-badge.svg\" alt=\"Open In Colab\"/></a>"
      ]
    },
    {
      "cell_type": "markdown",
      "source": [
        "Link para acesso do meu projeto da DIO:  \n",
        "[PrimeiroprojetoPowerBI](https://drive.google.com/drive/folders/1y1OTbfTh5J_qRLvJvlTVZDPl9R3MYZgb?usp=sharing)"
      ],
      "metadata": {
        "id": "8jtMu600gENT"
      }
    }
  ]
}